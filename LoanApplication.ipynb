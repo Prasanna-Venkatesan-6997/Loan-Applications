{
 "cells": [
  {
   "cell_type": "markdown",
   "metadata": {},
   "source": [
    "# Exploratory Data Analysis and Linear Regression on Loan Applications at a bank"
   ]
  },
  {
   "cell_type": "markdown",
   "metadata": {},
   "source": [
    "## 1. Loading a dataset from a CSV file."
   ]
  },
  {
   "cell_type": "code",
   "execution_count": 1,
   "metadata": {},
   "outputs": [],
   "source": [
    "#import the required libraries for data analysis in Python\n",
    "import numpy as np #for efficient numerical operations\n",
    "import pandas as pd #for manipulating and visualising data\n",
    "from scipy import stats #for statistics\n",
    "\n",
    "#read the csv file containing the details of the loan applicants\n",
    "df = pd.read_csv(\"loanapp.csv\")"
   ]
  },
  {
   "cell_type": "code",
   "execution_count": 2,
   "metadata": {},
   "outputs": [
    {
     "name": "stdout",
     "output_type": "stream",
     "text": [
      "The total number of enteries in the dataset is 1988\n"
     ]
    }
   ],
   "source": [
    "#count and print the number of enteries in the dataset\n",
    "print(\"The total number of enteries in the dataset is\", len(df))"
   ]
  },
  {
   "cell_type": "markdown",
   "metadata": {},
   "source": [
    "## 2. Displaying descriptive statistics about the dataset."
   ]
  },
  {
   "cell_type": "code",
   "execution_count": 3,
   "metadata": {},
   "outputs": [
    {
     "data": {
      "text/html": [
       "<div>\n",
       "<style scoped>\n",
       "    .dataframe tbody tr th:only-of-type {\n",
       "        vertical-align: middle;\n",
       "    }\n",
       "\n",
       "    .dataframe tbody tr th {\n",
       "        vertical-align: top;\n",
       "    }\n",
       "\n",
       "    .dataframe thead th {\n",
       "        text-align: right;\n",
       "    }\n",
       "</style>\n",
       "<table border=\"1\" class=\"dataframe\">\n",
       "  <thead>\n",
       "    <tr style=\"text-align: right;\">\n",
       "      <th></th>\n",
       "      <th>occupancy</th>\n",
       "      <th>loan_amount</th>\n",
       "      <th>applicant_income</th>\n",
       "      <th>num_units</th>\n",
       "      <th>num_dependants</th>\n",
       "      <th>monthly_income</th>\n",
       "      <th>purchase_price</th>\n",
       "      <th>liquid_assets</th>\n",
       "      <th>mortage_payment_history</th>\n",
       "      <th>consumer_credit_history</th>\n",
       "      <th>property_type</th>\n",
       "    </tr>\n",
       "  </thead>\n",
       "  <tbody>\n",
       "    <tr>\n",
       "      <th>count</th>\n",
       "      <td>1988.000000</td>\n",
       "      <td>1988.000000</td>\n",
       "      <td>1988.000000</td>\n",
       "      <td>1984.000000</td>\n",
       "      <td>1985.000000</td>\n",
       "      <td>1988.000000</td>\n",
       "      <td>1988.000000</td>\n",
       "      <td>1988.000000</td>\n",
       "      <td>1988.000000</td>\n",
       "      <td>1988.000000</td>\n",
       "      <td>1988.000000</td>\n",
       "    </tr>\n",
       "    <tr>\n",
       "      <th>mean</th>\n",
       "      <td>1.031690</td>\n",
       "      <td>143.272636</td>\n",
       "      <td>84.684105</td>\n",
       "      <td>1.122480</td>\n",
       "      <td>0.771285</td>\n",
       "      <td>5195.220825</td>\n",
       "      <td>196.304088</td>\n",
       "      <td>4620.333873</td>\n",
       "      <td>1.708249</td>\n",
       "      <td>2.110161</td>\n",
       "      <td>1.861167</td>\n",
       "    </tr>\n",
       "    <tr>\n",
       "      <th>std</th>\n",
       "      <td>0.191678</td>\n",
       "      <td>80.531470</td>\n",
       "      <td>87.079777</td>\n",
       "      <td>0.437315</td>\n",
       "      <td>1.104464</td>\n",
       "      <td>5270.360946</td>\n",
       "      <td>128.136030</td>\n",
       "      <td>67142.936043</td>\n",
       "      <td>0.555335</td>\n",
       "      <td>1.663256</td>\n",
       "      <td>0.535448</td>\n",
       "    </tr>\n",
       "    <tr>\n",
       "      <th>min</th>\n",
       "      <td>1.000000</td>\n",
       "      <td>2.000000</td>\n",
       "      <td>0.000000</td>\n",
       "      <td>1.000000</td>\n",
       "      <td>0.000000</td>\n",
       "      <td>0.000000</td>\n",
       "      <td>25.000000</td>\n",
       "      <td>0.000000</td>\n",
       "      <td>1.000000</td>\n",
       "      <td>1.000000</td>\n",
       "      <td>1.000000</td>\n",
       "    </tr>\n",
       "    <tr>\n",
       "      <th>25%</th>\n",
       "      <td>1.000000</td>\n",
       "      <td>100.000000</td>\n",
       "      <td>48.000000</td>\n",
       "      <td>1.000000</td>\n",
       "      <td>0.000000</td>\n",
       "      <td>2875.750000</td>\n",
       "      <td>129.000000</td>\n",
       "      <td>20.000000</td>\n",
       "      <td>1.000000</td>\n",
       "      <td>1.000000</td>\n",
       "      <td>2.000000</td>\n",
       "    </tr>\n",
       "    <tr>\n",
       "      <th>50%</th>\n",
       "      <td>1.000000</td>\n",
       "      <td>126.000000</td>\n",
       "      <td>64.000000</td>\n",
       "      <td>1.000000</td>\n",
       "      <td>0.000000</td>\n",
       "      <td>3812.500000</td>\n",
       "      <td>163.000000</td>\n",
       "      <td>38.000000</td>\n",
       "      <td>2.000000</td>\n",
       "      <td>1.000000</td>\n",
       "      <td>2.000000</td>\n",
       "    </tr>\n",
       "    <tr>\n",
       "      <th>75%</th>\n",
       "      <td>1.000000</td>\n",
       "      <td>165.000000</td>\n",
       "      <td>88.000000</td>\n",
       "      <td>1.000000</td>\n",
       "      <td>1.000000</td>\n",
       "      <td>5594.500000</td>\n",
       "      <td>225.000000</td>\n",
       "      <td>83.000000</td>\n",
       "      <td>2.000000</td>\n",
       "      <td>2.000000</td>\n",
       "      <td>2.000000</td>\n",
       "    </tr>\n",
       "    <tr>\n",
       "      <th>max</th>\n",
       "      <td>3.000000</td>\n",
       "      <td>980.000000</td>\n",
       "      <td>972.000000</td>\n",
       "      <td>4.000000</td>\n",
       "      <td>8.000000</td>\n",
       "      <td>81000.000000</td>\n",
       "      <td>1535.000000</td>\n",
       "      <td>1000000.000000</td>\n",
       "      <td>4.000000</td>\n",
       "      <td>6.000000</td>\n",
       "      <td>3.000000</td>\n",
       "    </tr>\n",
       "  </tbody>\n",
       "</table>\n",
       "</div>"
      ],
      "text/plain": [
       "         occupancy  loan_amount  applicant_income    num_units  \\\n",
       "count  1988.000000  1988.000000       1988.000000  1984.000000   \n",
       "mean      1.031690   143.272636         84.684105     1.122480   \n",
       "std       0.191678    80.531470         87.079777     0.437315   \n",
       "min       1.000000     2.000000          0.000000     1.000000   \n",
       "25%       1.000000   100.000000         48.000000     1.000000   \n",
       "50%       1.000000   126.000000         64.000000     1.000000   \n",
       "75%       1.000000   165.000000         88.000000     1.000000   \n",
       "max       3.000000   980.000000        972.000000     4.000000   \n",
       "\n",
       "       num_dependants  monthly_income  purchase_price   liquid_assets  \\\n",
       "count     1985.000000     1988.000000     1988.000000     1988.000000   \n",
       "mean         0.771285     5195.220825      196.304088     4620.333873   \n",
       "std          1.104464     5270.360946      128.136030    67142.936043   \n",
       "min          0.000000        0.000000       25.000000        0.000000   \n",
       "25%          0.000000     2875.750000      129.000000       20.000000   \n",
       "50%          0.000000     3812.500000      163.000000       38.000000   \n",
       "75%          1.000000     5594.500000      225.000000       83.000000   \n",
       "max          8.000000    81000.000000     1535.000000  1000000.000000   \n",
       "\n",
       "       mortage_payment_history  consumer_credit_history  property_type  \n",
       "count              1988.000000              1988.000000    1988.000000  \n",
       "mean                  1.708249                 2.110161       1.861167  \n",
       "std                   0.555335                 1.663256       0.535448  \n",
       "min                   1.000000                 1.000000       1.000000  \n",
       "25%                   1.000000                 1.000000       2.000000  \n",
       "50%                   2.000000                 1.000000       2.000000  \n",
       "75%                   2.000000                 2.000000       2.000000  \n",
       "max                   4.000000                 6.000000       3.000000  "
      ]
     },
     "execution_count": 3,
     "metadata": {},
     "output_type": "execute_result"
    }
   ],
   "source": [
    "#descriptive statistics on the dataset\n",
    "df.describe()"
   ]
  },
  {
   "cell_type": "markdown",
   "metadata": {},
   "source": [
    "The table above describes the descriptive statistics on the numerical variables of the dataset, namely, number of values(count), mean, standard deviation, minimum and maximum values in the columns."
   ]
  },
  {
   "cell_type": "markdown",
   "metadata": {},
   "source": [
    "## 3. Checking if any records in the data have any missing values."
   ]
  },
  {
   "cell_type": "markdown",
   "metadata": {},
   "source": [
    "By analysing the count values from step 2, it can be identified that there are some missing values in the columns. Hence, the dataset needs to be checked for all missing values and is cleaned for better and accurate analysis. This is an important step that needs to be carried out before conducting any Explorartory Data Analysis."
   ]
  },
  {
   "cell_type": "code",
   "execution_count": 4,
   "metadata": {
    "scrolled": true
   },
   "outputs": [
    {
     "data": {
      "text/plain": [
       "married                     3\n",
       "race                        0\n",
       "loan_decision               0\n",
       "occupancy                   0\n",
       "loan_amount                 0\n",
       "applicant_income            0\n",
       "num_units                   4\n",
       "num_dependants              3\n",
       "self_employed               0\n",
       "monthly_income              0\n",
       "purchase_price              0\n",
       "liquid_assets               0\n",
       "mortage_payment_history     0\n",
       "consumer_credit_history     0\n",
       "filed_bankruptcy            0\n",
       "property_type               0\n",
       "gender                     14\n",
       "dtype: int64"
      ]
     },
     "execution_count": 4,
     "metadata": {},
     "output_type": "execute_result"
    }
   ],
   "source": [
    "#check if the dataset contains null values\n",
    "#the function below counts the number of missing values in each column\n",
    "df.isnull().sum()"
   ]
  },
  {
   "cell_type": "markdown",
   "metadata": {},
   "source": [
    "In the 1988 enteries, the number of missing values in each column is displayed above. Following on, the enteries with missing values are deleted from the dataset to carry out clean and accurate data analysis."
   ]
  },
  {
   "cell_type": "code",
   "execution_count": 5,
   "metadata": {},
   "outputs": [],
   "source": [
    "#to delete all the missing values\n",
    "df.dropna(inplace=True, axis=\"rows\")"
   ]
  },
  {
   "cell_type": "code",
   "execution_count": 6,
   "metadata": {},
   "outputs": [
    {
     "data": {
      "text/plain": [
       "married                    0\n",
       "race                       0\n",
       "loan_decision              0\n",
       "occupancy                  0\n",
       "loan_amount                0\n",
       "applicant_income           0\n",
       "num_units                  0\n",
       "num_dependants             0\n",
       "self_employed              0\n",
       "monthly_income             0\n",
       "purchase_price             0\n",
       "liquid_assets              0\n",
       "mortage_payment_history    0\n",
       "consumer_credit_history    0\n",
       "filed_bankruptcy           0\n",
       "property_type              0\n",
       "gender                     0\n",
       "dtype: int64"
      ]
     },
     "execution_count": 6,
     "metadata": {},
     "output_type": "execute_result"
    }
   ],
   "source": [
    "#to check if there are still any missing values in the dataset\n",
    "df.isnull().sum()"
   ]
  },
  {
   "cell_type": "markdown",
   "metadata": {},
   "source": [
    "As seen above, there are no more missing values in the dataset."
   ]
  },
  {
   "cell_type": "code",
   "execution_count": 7,
   "metadata": {},
   "outputs": [
    {
     "name": "stdout",
     "output_type": "stream",
     "text": [
      "No. of enteries in the dataset after deleting the missing values are 1969\n"
     ]
    }
   ],
   "source": [
    "#new number of enteries in the dataset\n",
    "print(\"No. of enteries in the dataset after deleting the missing values are\", len(df))"
   ]
  },
  {
   "cell_type": "markdown",
   "metadata": {},
   "source": [
    "## 4. Displaying the distribution of (some of) numerical variables as histograms."
   ]
  },
  {
   "cell_type": "code",
   "execution_count": 8,
   "metadata": {},
   "outputs": [
    {
     "data": {
      "text/plain": [
       "Text(0, 0.5, 'No. of Applicants')"
      ]
     },
     "execution_count": 8,
     "metadata": {},
     "output_type": "execute_result"
    },
    {
     "data": {
      "image/png": "[encoded data removed]",
      "text/plain": [
       "<Figure size 432x288 with 1 Axes>"
      ]
     },
     "metadata": {
      "needs_background": "light"
     },
     "output_type": "display_data"
    }
   ],
   "source": [
    "#the range of loan amounts is displayed as an histogram\n",
    "loanamt = df[\"loan_amount\"].hist(bins=50)\n",
    "#title of the histogram\n",
    "loanamt.set_title(\"Range of Loan Amounts\")\n",
    "#x-axis title\n",
    "loanamt.set_xlabel(\"Loan Amount in thousands\")\n",
    "#y-axis title\n",
    "loanamt.set_ylabel(\"No. of Applicants\")"
   ]
  },
  {
   "cell_type": "markdown",
   "metadata": {},
   "source": [
    "The above graph describes the range of loan amounts that are applied by the applicants.\n",
    "\n",
    "It is seen that majority of the applicants have applied for a loan amount between £150-200,000."
   ]
  },
  {
   "cell_type": "code",
   "execution_count": 9,
   "metadata": {
    "scrolled": true
   },
   "outputs": [
    {
     "data": {
      "text/plain": [
       "Text(0, 0.5, 'No. of Applicants')"
      ]
     },
     "execution_count": 9,
     "metadata": {},
     "output_type": "execute_result"
    },
    {
     "data": {
      "image/png": "[encoded data removed]",
      "text/plain": [
       "<Figure size 432x288 with 1 Axes>"
      ]
     },
     "metadata": {
      "needs_background": "light"
     },
     "output_type": "display_data"
    }
   ],
   "source": [
    "#the range of applicants incomes are2 displayed as an histogram\n",
    "appinm = df[\"applicant_income\"].hist(bins=50)\n",
    "#title of the histogram\n",
    "appinm.set_title(\"Range of Applicants Incomes\")\n",
    "#x-axis title\n",
    "appinm.set_xlabel(\"Applicant Income in thousands\")\n",
    "#y-axis title\n",
    "appinm.set_ylabel(\"No. of Applicants\")"
   ]
  },
  {
   "cell_type": "markdown",
   "metadata": {},
   "source": [
    "The above graph describes the range of income the applicants earn as an histogram.\n",
    "\n",
    "The vast majority of the applicants have an income between £20-100,000."
   ]
  },
  {
   "cell_type": "markdown",
   "metadata": {},
   "source": [
    "## 5. Displaying unique values of a categorical variable."
   ]
  },
  {
   "cell_type": "code",
   "execution_count": 10,
   "metadata": {},
   "outputs": [
    {
     "name": "stdout",
     "output_type": "stream",
     "text": [
      "The different races that are in the dataset are ['white' 'black' 'hispan']\n"
     ]
    }
   ],
   "source": [
    "#to display unique values of the categorical variable - race\n",
    "print(\"The different races that are in the dataset are\", df.race.unique())"
   ]
  },
  {
   "cell_type": "markdown",
   "metadata": {},
   "source": [
    "## 6. Building a contingency table of two potentially related categorical variablesand conducting a statistical test of the independence between the variables. Provide verbal comments on the output."
   ]
  },
  {
   "cell_type": "code",
   "execution_count": 11,
   "metadata": {},
   "outputs": [
    {
     "data": {
      "text/html": [
       "<div>\n",
       "<style scoped>\n",
       "    .dataframe tbody tr th:only-of-type {\n",
       "        vertical-align: middle;\n",
       "    }\n",
       "\n",
       "    .dataframe tbody tr th {\n",
       "        vertical-align: top;\n",
       "    }\n",
       "\n",
       "    .dataframe thead th {\n",
       "        text-align: right;\n",
       "    }\n",
       "</style>\n",
       "<table border=\"1\" class=\"dataframe\">\n",
       "  <thead>\n",
       "    <tr style=\"text-align: right;\">\n",
       "      <th>loan_decision</th>\n",
       "      <th>approve</th>\n",
       "      <th>reject</th>\n",
       "    </tr>\n",
       "    <tr>\n",
       "      <th>race</th>\n",
       "      <th></th>\n",
       "      <th></th>\n",
       "    </tr>\n",
       "  </thead>\n",
       "  <tbody>\n",
       "    <tr>\n",
       "      <th>black</th>\n",
       "      <td>131</td>\n",
       "      <td>64</td>\n",
       "    </tr>\n",
       "    <tr>\n",
       "      <th>hispan</th>\n",
       "      <td>82</td>\n",
       "      <td>26</td>\n",
       "    </tr>\n",
       "    <tr>\n",
       "      <th>white</th>\n",
       "      <td>1514</td>\n",
       "      <td>152</td>\n",
       "    </tr>\n",
       "  </tbody>\n",
       "</table>\n",
       "</div>"
      ],
      "text/plain": [
       "loan_decision  approve  reject\n",
       "race                          \n",
       "black              131      64\n",
       "hispan              82      26\n",
       "white             1514     152"
      ]
     },
     "execution_count": 11,
     "metadata": {},
     "output_type": "execute_result"
    }
   ],
   "source": [
    "#contingency table is created between race and their loan decisions\n",
    "ct = pd.crosstab(df[\"race\"], df[\"loan_decision\"])\n",
    "#display the contingency table\n",
    "ct"
   ]
  },
  {
   "cell_type": "code",
   "execution_count": 12,
   "metadata": {
    "scrolled": true
   },
   "outputs": [
    {
     "name": "stdout",
     "output_type": "stream",
     "text": [
      "p-value: 1.1422552252120337e-23\n"
     ]
    },
    {
     "data": {
      "image/png": "[encoded data removed]",
      "text/plain": [
       "<Figure size 432x288 with 1 Axes>"
      ]
     },
     "metadata": {
      "needs_background": "light"
     },
     "output_type": "display_data"
    }
   ],
   "source": [
    "#the contingency table is plotted in a bar graph for visual understanding\n",
    "ct.plot(kind=\"bar\", stacked=True, rot=0)\n",
    "\n",
    "#the chi-square test is conducted to check the independence between the variables\n",
    "chi2, p_val, dof, expected = stats.chi2_contingency(ct)\n",
    "\n",
    "#print the p-value\n",
    "print(f\"p-value: {p_val}\")"
   ]
  },
  {
   "cell_type": "markdown",
   "metadata": {},
   "source": [
    "The bar graph shows the distribution of number of loans accepted and rejected \n",
    "as per the applicant's race. \n",
    "\n",
    "For the chi-square test,\n",
    "\n",
    "Null Hypothesis - There is no dependence between race and loan decision.\n",
    "\n",
    "Alternate Hypothesis - There is dependence between race and loan decision.\n",
    "\n",
    "Since, the p-value is less than the significane level (0.05), the null hypothesis \n",
    "is rejected.\n",
    "i.e., evidence of strong dependence between race and loan decisions is found. "
   ]
  },
  {
   "cell_type": "markdown",
   "metadata": {},
   "source": [
    "## 7. Retrieving a subset of the data based on two or more criteria and present descriptive statistics on the subset."
   ]
  },
  {
   "cell_type": "code",
   "execution_count": 13,
   "metadata": {},
   "outputs": [
    {
     "data": {
      "text/html": [
       "<div>\n",
       "<style scoped>\n",
       "    .dataframe tbody tr th:only-of-type {\n",
       "        vertical-align: middle;\n",
       "    }\n",
       "\n",
       "    .dataframe tbody tr th {\n",
       "        vertical-align: top;\n",
       "    }\n",
       "\n",
       "    .dataframe thead th {\n",
       "        text-align: right;\n",
       "    }\n",
       "</style>\n",
       "<table border=\"1\" class=\"dataframe\">\n",
       "  <thead>\n",
       "    <tr style=\"text-align: right;\">\n",
       "      <th></th>\n",
       "      <th>loan_amount</th>\n",
       "      <th>applicant_income</th>\n",
       "    </tr>\n",
       "  </thead>\n",
       "  <tbody>\n",
       "    <tr>\n",
       "      <th>0</th>\n",
       "      <td>128</td>\n",
       "      <td>74</td>\n",
       "    </tr>\n",
       "    <tr>\n",
       "      <th>1</th>\n",
       "      <td>128</td>\n",
       "      <td>84</td>\n",
       "    </tr>\n",
       "    <tr>\n",
       "      <th>2</th>\n",
       "      <td>66</td>\n",
       "      <td>36</td>\n",
       "    </tr>\n",
       "    <tr>\n",
       "      <th>3</th>\n",
       "      <td>120</td>\n",
       "      <td>59</td>\n",
       "    </tr>\n",
       "    <tr>\n",
       "      <th>4</th>\n",
       "      <td>111</td>\n",
       "      <td>63</td>\n",
       "    </tr>\n",
       "    <tr>\n",
       "      <th>...</th>\n",
       "      <td>...</td>\n",
       "      <td>...</td>\n",
       "    </tr>\n",
       "    <tr>\n",
       "      <th>1983</th>\n",
       "      <td>158</td>\n",
       "      <td>96</td>\n",
       "    </tr>\n",
       "    <tr>\n",
       "      <th>1984</th>\n",
       "      <td>35</td>\n",
       "      <td>169</td>\n",
       "    </tr>\n",
       "    <tr>\n",
       "      <th>1985</th>\n",
       "      <td>225</td>\n",
       "      <td>49</td>\n",
       "    </tr>\n",
       "    <tr>\n",
       "      <th>1986</th>\n",
       "      <td>98</td>\n",
       "      <td>110</td>\n",
       "    </tr>\n",
       "    <tr>\n",
       "      <th>1987</th>\n",
       "      <td>133</td>\n",
       "      <td>55</td>\n",
       "    </tr>\n",
       "  </tbody>\n",
       "</table>\n",
       "<p>1969 rows × 2 columns</p>\n",
       "</div>"
      ],
      "text/plain": [
       "      loan_amount  applicant_income\n",
       "0             128                74\n",
       "1             128                84\n",
       "2              66                36\n",
       "3             120                59\n",
       "4             111                63\n",
       "...           ...               ...\n",
       "1983          158                96\n",
       "1984           35               169\n",
       "1985          225                49\n",
       "1986           98               110\n",
       "1987          133                55\n",
       "\n",
       "[1969 rows x 2 columns]"
      ]
     },
     "execution_count": 13,
     "metadata": {},
     "output_type": "execute_result"
    }
   ],
   "source": [
    "#subset for applicant income for accept and reject.\n",
    "#loan amount\n",
    "#find their means\n",
    "#find their sum\n",
    "\n",
    "subset = df[[\"loan_amount\", \"applicant_income\"]]\n",
    "subset"
   ]
  },
  {
   "cell_type": "code",
   "execution_count": 14,
   "metadata": {
    "scrolled": false
   },
   "outputs": [
    {
     "data": {
      "text/html": [
       "<div>\n",
       "<style scoped>\n",
       "    .dataframe tbody tr th:only-of-type {\n",
       "        vertical-align: middle;\n",
       "    }\n",
       "\n",
       "    .dataframe tbody tr th {\n",
       "        vertical-align: top;\n",
       "    }\n",
       "\n",
       "    .dataframe thead th {\n",
       "        text-align: right;\n",
       "    }\n",
       "</style>\n",
       "<table border=\"1\" class=\"dataframe\">\n",
       "  <thead>\n",
       "    <tr style=\"text-align: right;\">\n",
       "      <th></th>\n",
       "      <th>loan_amount</th>\n",
       "      <th>applicant_income</th>\n",
       "    </tr>\n",
       "  </thead>\n",
       "  <tbody>\n",
       "    <tr>\n",
       "      <th>count</th>\n",
       "      <td>1969.000000</td>\n",
       "      <td>1969.000000</td>\n",
       "    </tr>\n",
       "    <tr>\n",
       "      <th>mean</th>\n",
       "      <td>143.505333</td>\n",
       "      <td>84.908075</td>\n",
       "    </tr>\n",
       "    <tr>\n",
       "      <th>std</th>\n",
       "      <td>80.802291</td>\n",
       "      <td>87.439115</td>\n",
       "    </tr>\n",
       "    <tr>\n",
       "      <th>min</th>\n",
       "      <td>2.000000</td>\n",
       "      <td>0.000000</td>\n",
       "    </tr>\n",
       "    <tr>\n",
       "      <th>25%</th>\n",
       "      <td>100.000000</td>\n",
       "      <td>48.000000</td>\n",
       "    </tr>\n",
       "    <tr>\n",
       "      <th>50%</th>\n",
       "      <td>126.000000</td>\n",
       "      <td>64.000000</td>\n",
       "    </tr>\n",
       "    <tr>\n",
       "      <th>75%</th>\n",
       "      <td>165.000000</td>\n",
       "      <td>88.000000</td>\n",
       "    </tr>\n",
       "    <tr>\n",
       "      <th>max</th>\n",
       "      <td>980.000000</td>\n",
       "      <td>972.000000</td>\n",
       "    </tr>\n",
       "  </tbody>\n",
       "</table>\n",
       "</div>"
      ],
      "text/plain": [
       "       loan_amount  applicant_income\n",
       "count  1969.000000       1969.000000\n",
       "mean    143.505333         84.908075\n",
       "std      80.802291         87.439115\n",
       "min       2.000000          0.000000\n",
       "25%     100.000000         48.000000\n",
       "50%     126.000000         64.000000\n",
       "75%     165.000000         88.000000\n",
       "max     980.000000        972.000000"
      ]
     },
     "execution_count": 14,
     "metadata": {},
     "output_type": "execute_result"
    }
   ],
   "source": [
    "#display descriptive statistics of the subset\n",
    "subset.describe()"
   ]
  },
  {
   "cell_type": "markdown",
   "metadata": {},
   "source": [
    "The above table displays the descriptive statics on the applicants based on their loan amount applied for and the applicant's income of the property that they have applied the loan for are displayed in thousands. \n",
    "\n",
    "The average of loan amount and applicant income are £143,505 and £84,908£, respectively, with a standard deviation of 80,000, 87,439, respectively. Finally, it is seen that the maximum amount of loan applied for among the applicants is £980,000."
   ]
  },
  {
   "cell_type": "markdown",
   "metadata": {},
   "source": [
    "## 8. Conducting a statistical test of the significance of the difference between the means of two subsets of the data."
   ]
  },
  {
   "cell_type": "code",
   "execution_count": 15,
   "metadata": {},
   "outputs": [
    {
     "name": "stdout",
     "output_type": "stream",
     "text": [
      "The no. of applications approved and rejected are displayed below: \n"
     ]
    },
    {
     "data": {
      "text/plain": [
       "approve    1727\n",
       "reject      242\n",
       "Name: loan_decision, dtype: int64"
      ]
     },
     "execution_count": 15,
     "metadata": {},
     "output_type": "execute_result"
    }
   ],
   "source": [
    "#count the number of applications that are aprroved and rejected\n",
    "print(\"The no. of applications approved and rejected are displayed below: \")\n",
    "df[\"loan_decision\"].value_counts()"
   ]
  },
  {
   "cell_type": "code",
   "execution_count": 16,
   "metadata": {
    "scrolled": true
   },
   "outputs": [
    {
     "name": "stdout",
     "output_type": "stream",
     "text": [
      "The mean monthly income of applicants whose loan got approved 5256.380428488709\n"
     ]
    }
   ],
   "source": [
    "#calculate the mean monthly income of applicants whose loan got approved\n",
    "app = df[df[\"loan_decision\"] == \"approve\"][\"monthly_income\"]\n",
    "mean1 = app.mean()\n",
    "print(\"The mean monthly income of applicants whose loan got approved\", mean1)"
   ]
  },
  {
   "cell_type": "code",
   "execution_count": 17,
   "metadata": {},
   "outputs": [
    {
     "name": "stdout",
     "output_type": "stream",
     "text": [
      "The mean monthly income of applicants whose loan got rejected 4837.01652892562\n"
     ]
    }
   ],
   "source": [
    "#calculate the mean monthly income of applicants whose loan got rejected\n",
    "rej = df[df[\"loan_decision\"] == \"reject\"][\"monthly_income\"]\n",
    "mean2 = rej.mean()\n",
    "print(\"The mean monthly income of applicants whose loan got rejected\", mean2)"
   ]
  },
  {
   "cell_type": "markdown",
   "metadata": {},
   "source": [
    "An indepenent two sample t-test is conducted to test the significance of difference between the means of monthly income of applicants whose applications got approved and rejected.\n",
    "\n",
    "The formulated hypothesis is:\n",
    "\n",
    "Null hypothesis: the difference between the mean is assumed to be zero\n",
    "\n",
    "Alternate hypothesis: there is a significant difference between the two means\n",
    "\n",
    "A significance level of 0.05 is chosen."
   ]
  },
  {
   "cell_type": "code",
   "execution_count": 18,
   "metadata": {},
   "outputs": [
    {
     "name": "stdout",
     "output_type": "stream",
     "text": [
      "t-value: 1.1548741531963007, p-value: 0.24828224204569163\n"
     ]
    }
   ],
   "source": [
    "#conduct a independent two sample t-test\n",
    "t_val, p_val = stats.ttest_ind(app, rej)\n",
    "\n",
    "print(f\"t-value: {t_val}, p-value: {p_val}\")"
   ]
  },
  {
   "cell_type": "markdown",
   "metadata": {},
   "source": [
    "The p_value from the t-test is greater than 0.05. Therefore, the null hypothesis is accepted which indicates that there is no difference between the mean monthly income of applicants whose applications got approved and rejected. "
   ]
  },
  {
   "cell_type": "markdown",
   "metadata": {},
   "source": [
    "## 9. Creating pivot tables."
   ]
  },
  {
   "cell_type": "code",
   "execution_count": 19,
   "metadata": {},
   "outputs": [
    {
     "data": {
      "text/html": [
       "<div>\n",
       "<style scoped>\n",
       "    .dataframe tbody tr th:only-of-type {\n",
       "        vertical-align: middle;\n",
       "    }\n",
       "\n",
       "    .dataframe tbody tr th {\n",
       "        vertical-align: top;\n",
       "    }\n",
       "\n",
       "    .dataframe thead th {\n",
       "        text-align: right;\n",
       "    }\n",
       "</style>\n",
       "<table border=\"1\" class=\"dataframe\">\n",
       "  <thead>\n",
       "    <tr style=\"text-align: right;\">\n",
       "      <th></th>\n",
       "      <th>occupancy</th>\n",
       "      <th>loan_amount</th>\n",
       "      <th>applicant_income</th>\n",
       "      <th>num_units</th>\n",
       "      <th>num_dependants</th>\n",
       "      <th>self_employed</th>\n",
       "      <th>monthly_income</th>\n",
       "      <th>purchase_price</th>\n",
       "      <th>liquid_assets</th>\n",
       "      <th>mortage_payment_history</th>\n",
       "      <th>consumer_credit_history</th>\n",
       "      <th>filed_bankruptcy</th>\n",
       "      <th>property_type</th>\n",
       "    </tr>\n",
       "    <tr>\n",
       "      <th>gender</th>\n",
       "      <th></th>\n",
       "      <th></th>\n",
       "      <th></th>\n",
       "      <th></th>\n",
       "      <th></th>\n",
       "      <th></th>\n",
       "      <th></th>\n",
       "      <th></th>\n",
       "      <th></th>\n",
       "      <th></th>\n",
       "      <th></th>\n",
       "      <th></th>\n",
       "      <th></th>\n",
       "    </tr>\n",
       "  </thead>\n",
       "  <tbody>\n",
       "    <tr>\n",
       "      <th>female</th>\n",
       "      <td>376</td>\n",
       "      <td>44344</td>\n",
       "      <td>26041</td>\n",
       "      <td>421.0</td>\n",
       "      <td>142.0</td>\n",
       "      <td>32</td>\n",
       "      <td>1600963</td>\n",
       "      <td>60367.030</td>\n",
       "      <td>39029.414</td>\n",
       "      <td>652</td>\n",
       "      <td>799</td>\n",
       "      <td>25</td>\n",
       "      <td>621</td>\n",
       "    </tr>\n",
       "    <tr>\n",
       "      <th>male</th>\n",
       "      <td>1656</td>\n",
       "      <td>238218</td>\n",
       "      <td>141143</td>\n",
       "      <td>1790.0</td>\n",
       "      <td>1375.0</td>\n",
       "      <td>225</td>\n",
       "      <td>8647364</td>\n",
       "      <td>327030.897</td>\n",
       "      <td>9145154.576</td>\n",
       "      <td>2707</td>\n",
       "      <td>3356</td>\n",
       "      <td>110</td>\n",
       "      <td>3046</td>\n",
       "    </tr>\n",
       "  </tbody>\n",
       "</table>\n",
       "</div>"
      ],
      "text/plain": [
       "        occupancy  loan_amount  applicant_income  num_units  num_dependants  \\\n",
       "gender                                                                        \n",
       "female        376        44344             26041      421.0           142.0   \n",
       "male         1656       238218            141143     1790.0          1375.0   \n",
       "\n",
       "        self_employed  monthly_income  purchase_price  liquid_assets  \\\n",
       "gender                                                                 \n",
       "female             32         1600963       60367.030      39029.414   \n",
       "male              225         8647364      327030.897    9145154.576   \n",
       "\n",
       "        mortage_payment_history  consumer_credit_history  filed_bankruptcy  \\\n",
       "gender                                                                       \n",
       "female                      652                      799                25   \n",
       "male                       2707                     3356               110   \n",
       "\n",
       "        property_type  \n",
       "gender                 \n",
       "female            621  \n",
       "male             3046  "
      ]
     },
     "execution_count": 19,
     "metadata": {},
     "output_type": "execute_result"
    }
   ],
   "source": [
    "ptable = df.groupby(\"gender\").sum()\n",
    "ptable"
   ]
  },
  {
   "cell_type": "markdown",
   "metadata": {},
   "source": [
    "## 10. Implementing a linear regression model and interpreting its output."
   ]
  },
  {
   "cell_type": "code",
   "execution_count": 20,
   "metadata": {},
   "outputs": [],
   "source": [
    "#import the required library for conducting linear regression\n",
    "import statsmodels.api as sm"
   ]
  },
  {
   "cell_type": "markdown",
   "metadata": {},
   "source": [
    "A linear regression model is implemented to predict how much loan amount is applied for based on the applicant's income, monthly income and the purchase price of the property.\n",
    "\n",
    "The dependent variable y is loan_amount\n",
    "\n",
    "The independent variables are  monthly_income, applicant_income and purchase price"
   ]
  },
  {
   "cell_type": "code",
   "execution_count": 21,
   "metadata": {},
   "outputs": [
    {
     "data": {
      "text/plain": [
       "<AxesSubplot:xlabel='monthly_income', ylabel='loan_amount'>"
      ]
     },
     "execution_count": 21,
     "metadata": {},
     "output_type": "execute_result"
    },
    {
     "data": {
      "image/png": "[encoded data removed]",
      "text/plain": [
       "<Figure size 432x288 with 1 Axes>"
      ]
     },
     "metadata": {
      "needs_background": "light"
     },
     "output_type": "display_data"
    }
   ],
   "source": [
    "#plot monthly income and loan amount to describe their relationship\n",
    "df.plot.scatter(x=\"monthly_income\", y=\"loan_amount\")"
   ]
  },
  {
   "cell_type": "code",
   "execution_count": 22,
   "metadata": {
    "scrolled": true
   },
   "outputs": [
    {
     "data": {
      "text/plain": [
       "<AxesSubplot:xlabel='applicant_income', ylabel='loan_amount'>"
      ]
     },
     "execution_count": 22,
     "metadata": {},
     "output_type": "execute_result"
    },
    {
     "data": {
      "image/png": "[encoded data removed]",
      "text/plain": [
       "<Figure size 432x288 with 1 Axes>"
      ]
     },
     "metadata": {
      "needs_background": "light"
     },
     "output_type": "display_data"
    }
   ],
   "source": [
    "#plot applicant income and loan amount to describe their relationship\n",
    "df.plot.scatter(x=\"applicant_income\", y=\"loan_amount\")"
   ]
  },
  {
   "cell_type": "code",
   "execution_count": 23,
   "metadata": {},
   "outputs": [
    {
     "data": {
      "text/plain": [
       "<AxesSubplot:xlabel='purchase_price', ylabel='loan_amount'>"
      ]
     },
     "execution_count": 23,
     "metadata": {},
     "output_type": "execute_result"
    },
    {
     "data": {
      "image/png": "[encoded data removed]",
      "text/plain": [
       "<Figure size 432x288 with 1 Axes>"
      ]
     },
     "metadata": {
      "needs_background": "light"
     },
     "output_type": "display_data"
    }
   ],
   "source": [
    "#plot purchase price and loan amount to describe their relationship\n",
    "df.plot.scatter(x=\"purchase_price\", y=\"loan_amount\")"
   ]
  },
  {
   "cell_type": "markdown",
   "metadata": {},
   "source": [
    "From the scatter plots above between monthly_income,purchase_price, applicant_income vs loan_amount, it can be seen that there is a positive linear relationship between the variables."
   ]
  },
  {
   "cell_type": "code",
   "execution_count": 24,
   "metadata": {},
   "outputs": [],
   "source": [
    "#run multiple linear regression\n",
    "#the line of best fit in this linear regression model is found using the OLS model\n",
    "model = sm.OLS.from_formula(\n",
    "        \"loan_amount ~ monthly_income + applicant_income + purchase_price\", data = df).fit()"
   ]
  },
  {
   "cell_type": "code",
   "execution_count": 25,
   "metadata": {},
   "outputs": [
    {
     "data": {
      "text/html": [
       "<table class=\"simpletable\">\n",
       "<caption>OLS Regression Results</caption>\n",
       "<tr>\n",
       "  <th>Dep. Variable:</th>       <td>loan_amount</td>   <th>  R-squared:         </th> <td>   0.702</td> \n",
       "</tr>\n",
       "<tr>\n",
       "  <th>Model:</th>                   <td>OLS</td>       <th>  Adj. R-squared:    </th> <td>   0.702</td> \n",
       "</tr>\n",
       "<tr>\n",
       "  <th>Method:</th>             <td>Least Squares</td>  <th>  F-statistic:       </th> <td>   1546.</td> \n",
       "</tr>\n",
       "<tr>\n",
       "  <th>Date:</th>             <td>Thu, 01 Apr 2021</td> <th>  Prob (F-statistic):</th>  <td>  0.00</td>  \n",
       "</tr>\n",
       "<tr>\n",
       "  <th>Time:</th>                 <td>09:44:40</td>     <th>  Log-Likelihood:    </th> <td> -10248.</td> \n",
       "</tr>\n",
       "<tr>\n",
       "  <th>No. Observations:</th>      <td>  1969</td>      <th>  AIC:               </th> <td>2.050e+04</td>\n",
       "</tr>\n",
       "<tr>\n",
       "  <th>Df Residuals:</th>          <td>  1965</td>      <th>  BIC:               </th> <td>2.053e+04</td>\n",
       "</tr>\n",
       "<tr>\n",
       "  <th>Df Model:</th>              <td>     3</td>      <th>                     </th>     <td> </td>    \n",
       "</tr>\n",
       "<tr>\n",
       "  <th>Covariance Type:</th>      <td>nonrobust</td>    <th>                     </th>     <td> </td>    \n",
       "</tr>\n",
       "</table>\n",
       "<table class=\"simpletable\">\n",
       "<tr>\n",
       "          <td></td>            <th>coef</th>     <th>std err</th>      <th>t</th>      <th>P>|t|</th>  <th>[0.025</th>    <th>0.975]</th>  \n",
       "</tr>\n",
       "<tr>\n",
       "  <th>Intercept</th>        <td>   39.0811</td> <td>    1.848</td> <td>   21.153</td> <td> 0.000</td> <td>   35.458</td> <td>   42.704</td>\n",
       "</tr>\n",
       "<tr>\n",
       "  <th>monthly_income</th>   <td>    0.0010</td> <td>    0.000</td> <td>    3.664</td> <td> 0.000</td> <td>    0.000</td> <td>    0.001</td>\n",
       "</tr>\n",
       "<tr>\n",
       "  <th>applicant_income</th> <td>    0.0455</td> <td>    0.014</td> <td>    3.265</td> <td> 0.001</td> <td>    0.018</td> <td>    0.073</td>\n",
       "</tr>\n",
       "<tr>\n",
       "  <th>purchase_price</th>   <td>    0.4855</td> <td>    0.010</td> <td>   48.455</td> <td> 0.000</td> <td>    0.466</td> <td>    0.505</td>\n",
       "</tr>\n",
       "</table>\n",
       "<table class=\"simpletable\">\n",
       "<tr>\n",
       "  <th>Omnibus:</th>       <td>763.117</td> <th>  Durbin-Watson:     </th> <td>   1.985</td> \n",
       "</tr>\n",
       "<tr>\n",
       "  <th>Prob(Omnibus):</th> <td> 0.000</td>  <th>  Jarque-Bera (JB):  </th> <td>80164.594</td>\n",
       "</tr>\n",
       "<tr>\n",
       "  <th>Skew:</th>          <td>-0.834</td>  <th>  Prob(JB):          </th> <td>    0.00</td> \n",
       "</tr>\n",
       "<tr>\n",
       "  <th>Kurtosis:</th>      <td>34.214</td>  <th>  Cond. No.          </th> <td>1.38e+04</td> \n",
       "</tr>\n",
       "</table><br/><br/>Notes:<br/>[1] Standard Errors assume that the covariance matrix of the errors is correctly specified.<br/>[2] The condition number is large, 1.38e+04. This might indicate that there are<br/>strong multicollinearity or other numerical problems."
      ],
      "text/plain": [
       "<class 'statsmodels.iolib.summary.Summary'>\n",
       "\"\"\"\n",
       "                            OLS Regression Results                            \n",
       "==============================================================================\n",
       "Dep. Variable:            loan_amount   R-squared:                       0.702\n",
       "Model:                            OLS   Adj. R-squared:                  0.702\n",
       "Method:                 Least Squares   F-statistic:                     1546.\n",
       "Date:                Thu, 01 Apr 2021   Prob (F-statistic):               0.00\n",
       "Time:                        09:44:40   Log-Likelihood:                -10248.\n",
       "No. Observations:                1969   AIC:                         2.050e+04\n",
       "Df Residuals:                    1965   BIC:                         2.053e+04\n",
       "Df Model:                           3                                         \n",
       "Covariance Type:            nonrobust                                         \n",
       "====================================================================================\n",
       "                       coef    std err          t      P>|t|      [0.025      0.975]\n",
       "------------------------------------------------------------------------------------\n",
       "Intercept           39.0811      1.848     21.153      0.000      35.458      42.704\n",
       "monthly_income       0.0010      0.000      3.664      0.000       0.000       0.001\n",
       "applicant_income     0.0455      0.014      3.265      0.001       0.018       0.073\n",
       "purchase_price       0.4855      0.010     48.455      0.000       0.466       0.505\n",
       "==============================================================================\n",
       "Omnibus:                      763.117   Durbin-Watson:                   1.985\n",
       "Prob(Omnibus):                  0.000   Jarque-Bera (JB):            80164.594\n",
       "Skew:                          -0.834   Prob(JB):                         0.00\n",
       "Kurtosis:                      34.214   Cond. No.                     1.38e+04\n",
       "==============================================================================\n",
       "\n",
       "Notes:\n",
       "[1] Standard Errors assume that the covariance matrix of the errors is correctly specified.\n",
       "[2] The condition number is large, 1.38e+04. This might indicate that there are\n",
       "strong multicollinearity or other numerical problems.\n",
       "\"\"\""
      ]
     },
     "execution_count": 25,
     "metadata": {},
     "output_type": "execute_result"
    }
   ],
   "source": [
    "#produce summary of the model\n",
    "model.summary()"
   ]
  },
  {
   "cell_type": "markdown",
   "metadata": {},
   "source": [
    "(1) **Coefficients on the variables**. The estimated coefficients are specified in the second table. Our model is thus described by the line: \n",
    "\n",
    "loanamount = 39.0811 + 0.0010*monthlyincome + 0.0455*applicantincome + 0.4855*purchaseprice +e.\n",
    "\n",
    "Considering the signs on the coefficients we can state that the loan amount applied for is positively affected by all the independent variables (greater the value of the variables, greater the amount of loan applied for).\n",
    "\n",
    "(2) **Significance of the variables**. The p-values on all the coefficients indicate that the variables are significant, i.e., the factors do have a significant effect on the loan amount (p-values < 0.05).\n",
    "\n",
    "(3) **Quality of the model**. The $R^2$ and the adjusted $R^2$ values are at 0.702 which shows a great fit compared to all other models. Only the best model is shown in the output. "
   ]
  },
  {
   "cell_type": "markdown",
   "metadata": {},
   "source": [
    "## Checking the assumptions of normality and zero mean of residuals\n",
    "\n",
    "The standardized residuals and their histogram are plotted to confirm that the assumptions of normality of the distribution of residuals and of the zero mean of residuals are valid with this model."
   ]
  },
  {
   "cell_type": "code",
   "execution_count": 26,
   "metadata": {},
   "outputs": [
    {
     "data": {
      "text/html": [
       "\n",
       "    <div class=\"bk-root\">\n",
       "        <a href=\"https://bokeh.org\" target=\"_blank\" class=\"bk-logo bk-logo-small bk-logo-notebook\"></a>\n",
       "        <span id=\"1001\">Loading BokehJS ...</span>\n",
       "    </div>"
      ]
     },
     "metadata": {},
     "output_type": "display_data"
    },
    {
     "data": {
      "application/javascript": [
       "\n",
       "(function(root) {\n",
       "  function now() {\n",
       "    return new Date();\n",
       "  }\n",
       "\n",
       "  var force = true;\n",
       "\n",
       "  if (typeof root._bokeh_onload_callbacks === \"undefined\" || force === true) {\n",
       "    root._bokeh_onload_callbacks = [];\n",
       "    root._bokeh_is_loading = undefined;\n",
       "  }\n",
       "\n",
       "  var JS_MIME_TYPE = 'application/javascript';\n",
       "  var HTML_MIME_TYPE = 'text/html';\n",
       "  var EXEC_MIME_TYPE = 'application/vnd.bokehjs_exec.v0+json';\n",
       "  var CLASS_NAME = 'output_bokeh rendered_html';\n",
       "\n",
       "  /**\n",
       "   * Render data to the DOM node\n",
       "   */\n",
       "  function render(props, node) {\n",
       "    var script = document.createElement(\"script\");\n",
       "    node.appendChild(script);\n",
       "  }\n",
       "\n",
       "  /**\n",
       "   * Handle when an output is cleared or removed\n",
       "   */\n",
       "  function handleClearOutput(event, handle) {\n",
       "    var cell = handle.cell;\n",
       "\n",
       "    var id = cell.output_area._bokeh_element_id;\n",
       "    var server_id = cell.output_area._bokeh_server_id;\n",
       "    // Clean up Bokeh references\n",
       "    if (id != null && id in Bokeh.index) {\n",
       "      Bokeh.index[id].model.document.clear();\n",
       "      delete Bokeh.index[id];\n",
       "    }\n",
       "\n",
       "    if (server_id !== undefined) {\n",
       "      // Clean up Bokeh references\n",
       "      var cmd = \"from bokeh.io.state import curstate; print(curstate().uuid_to_server['\" + server_id + \"'].get_sessions()[0].document.roots[0]._id)\";\n",
       "      cell.notebook.kernel.execute(cmd, {\n",
       "        iopub: {\n",
       "          output: function(msg) {\n",
       "            var id = msg.content.text.trim();\n",
       "            if (id in Bokeh.index) {\n",
       "              Bokeh.index[id].model.document.clear();\n",
       "              delete Bokeh.index[id];\n",
       "            }\n",
       "          }\n",
       "        }\n",
       "      });\n",
       "      // Destroy server and session\n",
       "      var cmd = \"import bokeh.io.notebook as ion; ion.destroy_server('\" + server_id + \"')\";\n",
       "      cell.notebook.kernel.execute(cmd);\n",
       "    }\n",
       "  }\n",
       "\n",
       "  /**\n",
       "   * Handle when a new output is added\n",
       "   */\n",
       "  function handleAddOutput(event, handle) {\n",
       "    var output_area = handle.output_area;\n",
       "    var output = handle.output;\n",
       "\n",
       "    // limit handleAddOutput to display_data with EXEC_MIME_TYPE content only\n",
       "    if ((output.output_type != \"display_data\") || (!output.data.hasOwnProperty(EXEC_MIME_TYPE))) {\n",
       "      return\n",
       "    }\n",
       "\n",
       "    var toinsert = output_area.element.find(\".\" + CLASS_NAME.split(' ')[0]);\n",
       "\n",
       "    if (output.metadata[EXEC_MIME_TYPE][\"id\"] !== undefined) {\n",
       "      toinsert[toinsert.length - 1].firstChild.textContent = output.data[JS_MIME_TYPE];\n",
       "      // store reference to embed id on output_area\n",
       "      output_area._bokeh_element_id = output.metadata[EXEC_MIME_TYPE][\"id\"];\n",
       "    }\n",
       "    if (output.metadata[EXEC_MIME_TYPE][\"server_id\"] !== undefined) {\n",
       "      var bk_div = document.createElement(\"div\");\n",
       "      bk_div.innerHTML = output.data[HTML_MIME_TYPE];\n",
       "      var script_attrs = bk_div.children[0].attributes;\n",
       "      for (var i = 0; i < script_attrs.length; i++) {\n",
       "        toinsert[toinsert.length - 1].firstChild.setAttribute(script_attrs[i].name, script_attrs[i].value);\n",
       "        toinsert[toinsert.length - 1].firstChild.textContent = bk_div.children[0].textContent\n",
       "      }\n",
       "      // store reference to server id on output_area\n",
       "      output_area._bokeh_server_id = output.metadata[EXEC_MIME_TYPE][\"server_id\"];\n",
       "    }\n",
       "  }\n",
       "\n",
       "  function register_renderer(events, OutputArea) {\n",
       "\n",
       "    function append_mime(data, metadata, element) {\n",
       "      // create a DOM node to render to\n",
       "      var toinsert = this.create_output_subarea(\n",
       "        metadata,\n",
       "        CLASS_NAME,\n",
       "        EXEC_MIME_TYPE\n",
       "      );\n",
       "      this.keyboard_manager.register_events(toinsert);\n",
       "      // Render to node\n",
       "      var props = {data: data, metadata: metadata[EXEC_MIME_TYPE]};\n",
       "      render(props, toinsert[toinsert.length - 1]);\n",
       "      element.append(toinsert);\n",
       "      return toinsert\n",
       "    }\n",
       "\n",
       "    /* Handle when an output is cleared or removed */\n",
       "    events.on('clear_output.CodeCell', handleClearOutput);\n",
       "    events.on('delete.Cell', handleClearOutput);\n",
       "\n",
       "    /* Handle when a new output is added */\n",
       "    events.on('output_added.OutputArea', handleAddOutput);\n",
       "\n",
       "    /**\n",
       "     * Register the mime type and append_mime function with output_area\n",
       "     */\n",
       "    OutputArea.prototype.register_mime_type(EXEC_MIME_TYPE, append_mime, {\n",
       "      /* Is output safe? */\n",
       "      safe: true,\n",
       "      /* Index of renderer in `output_area.display_order` */\n",
       "      index: 0\n",
       "    });\n",
       "  }\n",
       "\n",
       "  // register the mime type if in Jupyter Notebook environment and previously unregistered\n",
       "  if (root.Jupyter !== undefined) {\n",
       "    var events = require('base/js/events');\n",
       "    var OutputArea = require('notebook/js/outputarea').OutputArea;\n",
       "\n",
       "    if (OutputArea.prototype.mime_types().indexOf(EXEC_MIME_TYPE) == -1) {\n",
       "      register_renderer(events, OutputArea);\n",
       "    }\n",
       "  }\n",
       "\n",
       "  \n",
       "  if (typeof (root._bokeh_timeout) === \"undefined\" || force === true) {\n",
       "    root._bokeh_timeout = Date.now() + 5000;\n",
       "    root._bokeh_failed_load = false;\n",
       "  }\n",
       "\n",
       "  var NB_LOAD_WARNING = {'data': {'text/html':\n",
       "     \"<div style='background-color: #fdd'>\\n\"+\n",
       "     \"<p>\\n\"+\n",
       "     \"BokehJS does not appear to have successfully loaded. If loading BokehJS from CDN, this \\n\"+\n",
       "     \"may be due to a slow or bad network connection. Possible fixes:\\n\"+\n",
       "     \"</p>\\n\"+\n",
       "     \"<ul>\\n\"+\n",
       "     \"<li>re-rerun `output_notebook()` to attempt to load from CDN again, or</li>\\n\"+\n",
       "     \"<li>use INLINE resources instead, as so:</li>\\n\"+\n",
       "     \"</ul>\\n\"+\n",
       "     \"<code>\\n\"+\n",
       "     \"from bokeh.resources import INLINE\\n\"+\n",
       "     \"output_notebook(resources=INLINE)\\n\"+\n",
       "     \"</code>\\n\"+\n",
       "     \"</div>\"}};\n",
       "\n",
       "  function display_loaded() {\n",
       "    var el = document.getElementById(\"1001\");\n",
       "    if (el != null) {\n",
       "      el.textContent = \"BokehJS is loading...\";\n",
       "    }\n",
       "    if (root.Bokeh !== undefined) {\n",
       "      if (el != null) {\n",
       "        el.textContent = \"BokehJS \" + root.Bokeh.version + \" successfully loaded.\";\n",
       "      }\n",
       "    } else if (Date.now() < root._bokeh_timeout) {\n",
       "      setTimeout(display_loaded, 100)\n",
       "    }\n",
       "  }\n",
       "\n",
       "\n",
       "  function run_callbacks() {\n",
       "    try {\n",
       "      root._bokeh_onload_callbacks.forEach(function(callback) {\n",
       "        if (callback != null)\n",
       "          callback();\n",
       "      });\n",
       "    } finally {\n",
       "      delete root._bokeh_onload_callbacks\n",
       "    }\n",
       "    console.debug(\"Bokeh: all callbacks have finished\");\n",
       "  }\n",
       "\n",
       "  function load_libs(css_urls, js_urls, callback) {\n",
       "    if (css_urls == null) css_urls = [];\n",
       "    if (js_urls == null) js_urls = [];\n",
       "\n",
       "    root._bokeh_onload_callbacks.push(callback);\n",
       "    if (root._bokeh_is_loading > 0) {\n",
       "      console.debug(\"Bokeh: BokehJS is being loaded, scheduling callback at\", now());\n",
       "      return null;\n",
       "    }\n",
       "    if (js_urls == null || js_urls.length === 0) {\n",
       "      run_callbacks();\n",
       "      return null;\n",
       "    }\n",
       "    console.debug(\"Bokeh: BokehJS not loaded, scheduling load and callback at\", now());\n",
       "    root._bokeh_is_loading = css_urls.length + js_urls.length;\n",
       "\n",
       "    function on_load() {\n",
       "      root._bokeh_is_loading--;\n",
       "      if (root._bokeh_is_loading === 0) {\n",
       "        console.debug(\"Bokeh: all BokehJS libraries/stylesheets loaded\");\n",
       "        run_callbacks()\n",
       "      }\n",
       "    }\n",
       "\n",
       "    function on_error() {\n",
       "      console.error(\"failed to load \" + url);\n",
       "    }\n",
       "\n",
       "    for (var i = 0; i < css_urls.length; i++) {\n",
       "      var url = css_urls[i];\n",
       "      const element = document.createElement(\"link\");\n",
       "      element.onload = on_load;\n",
       "      element.onerror = on_error;\n",
       "      element.rel = \"stylesheet\";\n",
       "      element.type = \"text/css\";\n",
       "      element.href = url;\n",
       "      console.debug(\"Bokeh: injecting link tag for BokehJS stylesheet: \", url);\n",
       "      document.body.appendChild(element);\n",
       "    }\n",
       "\n",
       "    const hashes = {\"https://cdn.bokeh.org/bokeh/release/bokeh-2.2.3.min.js\": \"T2yuo9Oe71Cz/I4X9Ac5+gpEa5a8PpJCDlqKYO0CfAuEszu1JrXLl8YugMqYe3sM\", \"https://cdn.bokeh.org/bokeh/release/bokeh-widgets-2.2.3.min.js\": \"98GDGJ0kOMCUMUePhksaQ/GYgB3+NH9h996V88sh3aOiUNX3N+fLXAtry6xctSZ6\", \"https://cdn.bokeh.org/bokeh/release/bokeh-tables-2.2.3.min.js\": \"89bArO+nlbP3sgakeHjCo1JYxYR5wufVgA3IbUvDY+K7w4zyxJqssu7wVnfeKCq8\"};\n",
       "\n",
       "    for (var i = 0; i < js_urls.length; i++) {\n",
       "      var url = js_urls[i];\n",
       "      var element = document.createElement('script');\n",
       "      element.onload = on_load;\n",
       "      element.onerror = on_error;\n",
       "      element.async = false;\n",
       "      element.src = url;\n",
       "      if (url in hashes) {\n",
       "        element.crossOrigin = \"anonymous\";\n",
       "        element.integrity = \"sha384-\" + hashes[url];\n",
       "      }\n",
       "      console.debug(\"Bokeh: injecting script tag for BokehJS library: \", url);\n",
       "      document.head.appendChild(element);\n",
       "    }\n",
       "  };\n",
       "\n",
       "  function inject_raw_css(css) {\n",
       "    const element = document.createElement(\"style\");\n",
       "    element.appendChild(document.createTextNode(css));\n",
       "    document.body.appendChild(element);\n",
       "  }\n",
       "\n",
       "  \n",
       "  var js_urls = [\"https://cdn.bokeh.org/bokeh/release/bokeh-2.2.3.min.js\", \"https://cdn.bokeh.org/bokeh/release/bokeh-widgets-2.2.3.min.js\", \"https://cdn.bokeh.org/bokeh/release/bokeh-tables-2.2.3.min.js\"];\n",
       "  var css_urls = [];\n",
       "  \n",
       "\n",
       "  var inline_js = [\n",
       "    function(Bokeh) {\n",
       "      Bokeh.set_log_level(\"info\");\n",
       "    },\n",
       "    function(Bokeh) {\n",
       "    \n",
       "    \n",
       "    }\n",
       "  ];\n",
       "\n",
       "  function run_inline_js() {\n",
       "    \n",
       "    if (root.Bokeh !== undefined || force === true) {\n",
       "      \n",
       "    for (var i = 0; i < inline_js.length; i++) {\n",
       "      inline_js[i].call(root, root.Bokeh);\n",
       "    }\n",
       "    if (force === true) {\n",
       "        display_loaded();\n",
       "      }} else if (Date.now() < root._bokeh_timeout) {\n",
       "      setTimeout(run_inline_js, 100);\n",
       "    } else if (!root._bokeh_failed_load) {\n",
       "      console.log(\"Bokeh: BokehJS failed to load within specified timeout.\");\n",
       "      root._bokeh_failed_load = true;\n",
       "    } else if (force !== true) {\n",
       "      var cell = $(document.getElementById(\"1001\")).parents('.cell').data().cell;\n",
       "      cell.output_area.append_execute_result(NB_LOAD_WARNING)\n",
       "    }\n",
       "\n",
       "  }\n",
       "\n",
       "  if (root._bokeh_is_loading === 0) {\n",
       "    console.debug(\"Bokeh: BokehJS loaded, going straight to plotting\");\n",
       "    run_inline_js();\n",
       "  } else {\n",
       "    load_libs(css_urls, js_urls, function() {\n",
       "      console.debug(\"Bokeh: BokehJS plotting callback run at\", now());\n",
       "      run_inline_js();\n",
       "    });\n",
       "  }\n",
       "}(window));"
      ],
      "application/vnd.bokehjs_load.v0+json": "\n(function(root) {\n  function now() {\n    return new Date();\n  }\n\n  var force = true;\n\n  if (typeof root._bokeh_onload_callbacks === \"undefined\" || force === true) {\n    root._bokeh_onload_callbacks = [];\n    root._bokeh_is_loading = undefined;\n  }\n\n  \n\n  \n  if (typeof (root._bokeh_timeout) === \"undefined\" || force === true) {\n    root._bokeh_timeout = Date.now() + 5000;\n    root._bokeh_failed_load = false;\n  }\n\n  var NB_LOAD_WARNING = {'data': {'text/html':\n     \"<div style='background-color: #fdd'>\\n\"+\n     \"<p>\\n\"+\n     \"BokehJS does not appear to have successfully loaded. If loading BokehJS from CDN, this \\n\"+\n     \"may be due to a slow or bad network connection. Possible fixes:\\n\"+\n     \"</p>\\n\"+\n     \"<ul>\\n\"+\n     \"<li>re-rerun `output_notebook()` to attempt to load from CDN again, or</li>\\n\"+\n     \"<li>use INLINE resources instead, as so:</li>\\n\"+\n     \"</ul>\\n\"+\n     \"<code>\\n\"+\n     \"from bokeh.resources import INLINE\\n\"+\n     \"output_notebook(resources=INLINE)\\n\"+\n     \"</code>\\n\"+\n     \"</div>\"}};\n\n  function display_loaded() {\n    var el = document.getElementById(\"1001\");\n    if (el != null) {\n      el.textContent = \"BokehJS is loading...\";\n    }\n    if (root.Bokeh !== undefined) {\n      if (el != null) {\n        el.textContent = \"BokehJS \" + root.Bokeh.version + \" successfully loaded.\";\n      }\n    } else if (Date.now() < root._bokeh_timeout) {\n      setTimeout(display_loaded, 100)\n    }\n  }\n\n\n  function run_callbacks() {\n    try {\n      root._bokeh_onload_callbacks.forEach(function(callback) {\n        if (callback != null)\n          callback();\n      });\n    } finally {\n      delete root._bokeh_onload_callbacks\n    }\n    console.debug(\"Bokeh: all callbacks have finished\");\n  }\n\n  function load_libs(css_urls, js_urls, callback) {\n    if (css_urls == null) css_urls = [];\n    if (js_urls == null) js_urls = [];\n\n    root._bokeh_onload_callbacks.push(callback);\n    if (root._bokeh_is_loading > 0) {\n      console.debug(\"Bokeh: BokehJS is being loaded, scheduling callback at\", now());\n      return null;\n    }\n    if (js_urls == null || js_urls.length === 0) {\n      run_callbacks();\n      return null;\n    }\n    console.debug(\"Bokeh: BokehJS not loaded, scheduling load and callback at\", now());\n    root._bokeh_is_loading = css_urls.length + js_urls.length;\n\n    function on_load() {\n      root._bokeh_is_loading--;\n      if (root._bokeh_is_loading === 0) {\n        console.debug(\"Bokeh: all BokehJS libraries/stylesheets loaded\");\n        run_callbacks()\n      }\n    }\n\n    function on_error() {\n      console.error(\"failed to load \" + url);\n    }\n\n    for (var i = 0; i < css_urls.length; i++) {\n      var url = css_urls[i];\n      const element = document.createElement(\"link\");\n      element.onload = on_load;\n      element.onerror = on_error;\n      element.rel = \"stylesheet\";\n      element.type = \"text/css\";\n      element.href = url;\n      console.debug(\"Bokeh: injecting link tag for BokehJS stylesheet: \", url);\n      document.body.appendChild(element);\n    }\n\n    const hashes = {\"https://cdn.bokeh.org/bokeh/release/bokeh-2.2.3.min.js\": \"T2yuo9Oe71Cz/I4X9Ac5+gpEa5a8PpJCDlqKYO0CfAuEszu1JrXLl8YugMqYe3sM\", \"https://cdn.bokeh.org/bokeh/release/bokeh-widgets-2.2.3.min.js\": \"98GDGJ0kOMCUMUePhksaQ/GYgB3+NH9h996V88sh3aOiUNX3N+fLXAtry6xctSZ6\", \"https://cdn.bokeh.org/bokeh/release/bokeh-tables-2.2.3.min.js\": \"89bArO+nlbP3sgakeHjCo1JYxYR5wufVgA3IbUvDY+K7w4zyxJqssu7wVnfeKCq8\"};\n\n    for (var i = 0; i < js_urls.length; i++) {\n      var url = js_urls[i];\n      var element = document.createElement('script');\n      element.onload = on_load;\n      element.onerror = on_error;\n      element.async = false;\n      element.src = url;\n      if (url in hashes) {\n        element.crossOrigin = \"anonymous\";\n        element.integrity = \"sha384-\" + hashes[url];\n      }\n      console.debug(\"Bokeh: injecting script tag for BokehJS library: \", url);\n      document.head.appendChild(element);\n    }\n  };\n\n  function inject_raw_css(css) {\n    const element = document.createElement(\"style\");\n    element.appendChild(document.createTextNode(css));\n    document.body.appendChild(element);\n  }\n\n  \n  var js_urls = [\"https://cdn.bokeh.org/bokeh/release/bokeh-2.2.3.min.js\", \"https://cdn.bokeh.org/bokeh/release/bokeh-widgets-2.2.3.min.js\", \"https://cdn.bokeh.org/bokeh/release/bokeh-tables-2.2.3.min.js\"];\n  var css_urls = [];\n  \n\n  var inline_js = [\n    function(Bokeh) {\n      Bokeh.set_log_level(\"info\");\n    },\n    function(Bokeh) {\n    \n    \n    }\n  ];\n\n  function run_inline_js() {\n    \n    if (root.Bokeh !== undefined || force === true) {\n      \n    for (var i = 0; i < inline_js.length; i++) {\n      inline_js[i].call(root, root.Bokeh);\n    }\n    if (force === true) {\n        display_loaded();\n      }} else if (Date.now() < root._bokeh_timeout) {\n      setTimeout(run_inline_js, 100);\n    } else if (!root._bokeh_failed_load) {\n      console.log(\"Bokeh: BokehJS failed to load within specified timeout.\");\n      root._bokeh_failed_load = true;\n    } else if (force !== true) {\n      var cell = $(document.getElementById(\"1001\")).parents('.cell').data().cell;\n      cell.output_area.append_execute_result(NB_LOAD_WARNING)\n    }\n\n  }\n\n  if (root._bokeh_is_loading === 0) {\n    console.debug(\"Bokeh: BokehJS loaded, going straight to plotting\");\n    run_inline_js();\n  } else {\n    load_libs(css_urls, js_urls, function() {\n      console.debug(\"Bokeh: BokehJS plotting callback run at\", now());\n      run_inline_js();\n    });\n  }\n}(window));"
     },
     "metadata": {},
     "output_type": "display_data"
    }
   ],
   "source": [
    "#import bokehJS for plotting and showing figures\n",
    "from bokeh.io import output_notebook\n",
    "output_notebook()\n",
    "\n",
    "from bokeh.plotting import figure\n",
    "from bokeh.io import show"
   ]
  },
  {
   "cell_type": "code",
   "execution_count": 27,
   "metadata": {},
   "outputs": [
    {
     "data": {
      "text/html": [
       "\n",
       "\n",
       "\n",
       "\n",
       "\n",
       "\n",
       "  <div class=\"bk-root\" id=\"f55ee82d-6f26-4537-8221-65bd0ec86e02\" data-root-id=\"1002\"></div>\n"
      ]
     },
     "metadata": {},
     "output_type": "display_data"
    },
    {
     "data": {
      "application/javascript": [
       "(function(root) {\n",
       "  function embed_document(root) {\n",
       "    \n",
       "  var docs_json = {\"646a0157-f939-482c-90be-818fc28b3008\":{\"roots\":{\"references\":[{\"attributes\":{\"below\":[{\"id\":\"1011\"}],\"center\":[{\"id\":\"1014\"},{\"id\":\"1018\"}],\"left\":[{\"id\":\"1015\"}],\"plot_height\":400,\"plot_width\":400,\"renderers\":[{\"id\":\"1036\"}],\"title\":{\"id\":\"1038\"},\"toolbar\":{\"id\":\"1026\"},\"x_range\":{\"id\":\"1003\"},\"x_scale\":{\"id\":\"1007\"},\"y_range\":{\"id\":\"1005\"},\"y_scale\":{\"id\":\"1009\"}},\"id\":\"1002\",\"subtype\":\"Figure\",\"type\":\"Plot\"},{\"attributes\":{},\"id\":\"1042\",\"type\":\"BasicTickFormatter\"},{\"attributes\":{\"bottom_units\":\"screen\",\"fill_alpha\":0.5,\"fill_color\":\"lightgrey\",\"left_units\":\"screen\",\"level\":\"overlay\",\"line_alpha\":1.0,\"line_color\":\"black\",\"line_dash\":[4,4],\"line_width\":2,\"right_units\":\"screen\",\"top_units\":\"screen\"},\"id\":\"1025\",\"type\":\"BoxAnnotation\"},{\"attributes\":{\"data_source\":{\"id\":\"1033\"},\"glyph\":{\"id\":\"1034\"},\"hover_glyph\":null,\"muted_glyph\":null,\"nonselection_glyph\":{\"id\":\"1035\"},\"selection_glyph\":null,\"view\":{\"id\":\"1037\"}},\"id\":\"1036\",\"type\":\"GlyphRenderer\"},{\"attributes\":{},\"id\":\"1012\",\"type\":\"BasicTicker\"},{\"attributes\":{\"fill_alpha\":{\"value\":0.1},\"fill_color\":{\"value\":\"#1f77b4\"},\"line_alpha\":{\"value\":0.1},\"line_color\":{\"value\":\"#1f77b4\"},\"x\":{\"field\":\"x\"},\"y\":{\"field\":\"y\"}},\"id\":\"1035\",\"type\":\"Circle\"},{\"attributes\":{\"formatter\":{\"id\":\"1042\"},\"ticker\":{\"id\":\"1012\"}},\"id\":\"1011\",\"type\":\"LinearAxis\"},{\"attributes\":{},\"id\":\"1003\",\"type\":\"DataRange1d\"},{\"attributes\":{\"data\":{\"x\":{\"__ndarray__\":\"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\",\"dtype\":\"float64\",\"order\":\"little\",\"shape\":[1969]},\"y\":{\"__ndarray__\":\"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\",\"dtype\":\"float64\",\"order\":\"little\",\"shape\":[1969]}},\"selected\":{\"id\":\"1046\"},\"selection_policy\":{\"id\":\"1045\"}},\"id\":\"1033\",\"type\":\"ColumnDataSource\"},{\"attributes\":{},\"id\":\"1007\",\"type\":\"LinearScale\"},{\"attributes\":{\"formatter\":{\"id\":\"1040\"},\"ticker\":{\"id\":\"1016\"}},\"id\":\"1015\",\"type\":\"LinearAxis\"},{\"attributes\":{},\"id\":\"1045\",\"type\":\"UnionRenderers\"},{\"attributes\":{},\"id\":\"1005\",\"type\":\"DataRange1d\"},{\"attributes\":{},\"id\":\"1009\",\"type\":\"LinearScale\"},{\"attributes\":{},\"id\":\"1024\",\"type\":\"HelpTool\"},{\"attributes\":{\"axis\":{\"id\":\"1011\"},\"ticker\":null},\"id\":\"1014\",\"type\":\"Grid\"},{\"attributes\":{},\"id\":\"1046\",\"type\":\"Selection\"},{\"attributes\":{\"axis\":{\"id\":\"1015\"},\"dimension\":1,\"ticker\":null},\"id\":\"1018\",\"type\":\"Grid\"},{\"attributes\":{},\"id\":\"1016\",\"type\":\"BasicTicker\"},{\"attributes\":{},\"id\":\"1040\",\"type\":\"BasicTickFormatter\"},{\"attributes\":{\"active_drag\":\"auto\",\"active_inspect\":\"auto\",\"active_multi\":null,\"active_scroll\":\"auto\",\"active_tap\":\"auto\",\"tools\":[{\"id\":\"1019\"},{\"id\":\"1020\"},{\"id\":\"1021\"},{\"id\":\"1022\"},{\"id\":\"1023\"},{\"id\":\"1024\"}]},\"id\":\"1026\",\"type\":\"Toolbar\"},{\"attributes\":{},\"id\":\"1020\",\"type\":\"WheelZoomTool\"},{\"attributes\":{\"fill_color\":{\"value\":\"#1f77b4\"},\"line_color\":{\"value\":\"#1f77b4\"},\"x\":{\"field\":\"x\"},\"y\":{\"field\":\"y\"}},\"id\":\"1034\",\"type\":\"Circle\"},{\"attributes\":{\"text\":\"\"},\"id\":\"1038\",\"type\":\"Title\"},{\"attributes\":{},\"id\":\"1019\",\"type\":\"PanTool\"},{\"attributes\":{\"overlay\":{\"id\":\"1025\"}},\"id\":\"1021\",\"type\":\"BoxZoomTool\"},{\"attributes\":{},\"id\":\"1022\",\"type\":\"SaveTool\"},{\"attributes\":{},\"id\":\"1023\",\"type\":\"ResetTool\"},{\"attributes\":{\"source\":{\"id\":\"1033\"}},\"id\":\"1037\",\"type\":\"CDSView\"}],\"root_ids\":[\"1002\"]},\"title\":\"Bokeh Application\",\"version\":\"2.2.3\"}};\n",
       "  var render_items = [{\"docid\":\"646a0157-f939-482c-90be-818fc28b3008\",\"root_ids\":[\"1002\"],\"roots\":{\"1002\":\"f55ee82d-6f26-4537-8221-65bd0ec86e02\"}}];\n",
       "  root.Bokeh.embed.embed_items_notebook(docs_json, render_items);\n",
       "\n",
       "  }\n",
       "  if (root.Bokeh !== undefined) {\n",
       "    embed_document(root);\n",
       "  } else {\n",
       "    var attempts = 0;\n",
       "    var timer = setInterval(function(root) {\n",
       "      if (root.Bokeh !== undefined) {\n",
       "        clearInterval(timer);\n",
       "        embed_document(root);\n",
       "      } else {\n",
       "        attempts++;\n",
       "        if (attempts > 100) {\n",
       "          clearInterval(timer);\n",
       "          console.log(\"Bokeh: ERROR: Unable to run BokehJS code because BokehJS library is missing\");\n",
       "        }\n",
       "      }\n",
       "    }, 10, root)\n",
       "  }\n",
       "})(window);"
      ],
      "application/vnd.bokehjs_exec.v0+json": ""
     },
     "metadata": {
      "application/vnd.bokehjs_exec.v0+json": {
       "id": "1002"
      }
     },
     "output_type": "display_data"
    }
   ],
   "source": [
    "fig = figure(height=400, width=400)\n",
    "\n",
    "# the x axis is the fitted values\n",
    "# the y axis is the standardized residuals\n",
    "st_resids = model.get_influence().resid_studentized_internal\n",
    "fig.circle(model.fittedvalues, st_resids)\n",
    "\n",
    "show(fig)"
   ]
  },
  {
   "cell_type": "code",
   "execution_count": 28,
   "metadata": {},
   "outputs": [
    {
     "data": {
      "text/html": [
       "\n",
       "\n",
       "\n",
       "\n",
       "\n",
       "\n",
       "  <div class=\"bk-root\" id=\"96089a03-80a5-4f05-b1ef-24013c2846b2\" data-root-id=\"1092\"></div>\n"
      ]
     },
     "metadata": {},
     "output_type": "display_data"
    },
    {
     "data": {
      "application/javascript": [
       "(function(root) {\n",
       "  function embed_document(root) {\n",
       "    \n",
       "  var docs_json = {\"a0b179c4-e530-4468-94f7-403d6cf7179e\":{\"roots\":{\"references\":[{\"attributes\":{\"below\":[{\"id\":\"1101\"}],\"center\":[{\"id\":\"1104\"},{\"id\":\"1108\"}],\"left\":[{\"id\":\"1105\"}],\"plot_height\":400,\"plot_width\":400,\"renderers\":[{\"id\":\"1126\"}],\"title\":{\"id\":\"1137\"},\"toolbar\":{\"id\":\"1116\"},\"x_range\":{\"id\":\"1093\"},\"x_scale\":{\"id\":\"1097\"},\"y_range\":{\"id\":\"1095\"},\"y_scale\":{\"id\":\"1099\"}},\"id\":\"1092\",\"subtype\":\"Figure\",\"type\":\"Plot\"},{\"attributes\":{},\"id\":\"1144\",\"type\":\"UnionRenderers\"},{\"attributes\":{\"text\":\"\"},\"id\":\"1137\",\"type\":\"Title\"},{\"attributes\":{},\"id\":\"1145\",\"type\":\"Selection\"},{\"attributes\":{},\"id\":\"1139\",\"type\":\"BasicTickFormatter\"},{\"attributes\":{\"bottom_units\":\"screen\",\"fill_alpha\":0.5,\"fill_color\":\"lightgrey\",\"left_units\":\"screen\",\"level\":\"overlay\",\"line_alpha\":1.0,\"line_color\":\"black\",\"line_dash\":[4,4],\"line_width\":2,\"right_units\":\"screen\",\"top_units\":\"screen\"},\"id\":\"1115\",\"type\":\"BoxAnnotation\"},{\"attributes\":{},\"id\":\"1114\",\"type\":\"HelpTool\"},{\"attributes\":{},\"id\":\"1106\",\"type\":\"BasicTicker\"},{\"attributes\":{\"formatter\":{\"id\":\"1141\"},\"ticker\":{\"id\":\"1102\"}},\"id\":\"1101\",\"type\":\"LinearAxis\"},{\"attributes\":{},\"id\":\"1097\",\"type\":\"LinearScale\"},{\"attributes\":{},\"id\":\"1141\",\"type\":\"BasicTickFormatter\"},{\"attributes\":{},\"id\":\"1095\",\"type\":\"DataRange1d\"},{\"attributes\":{},\"id\":\"1099\",\"type\":\"LinearScale\"},{\"attributes\":{\"bottom\":{\"value\":0},\"fill_color\":{\"value\":\"#1f77b4\"},\"left\":{\"field\":\"left\"},\"line_color\":{\"value\":\"#1f77b4\"},\"right\":{\"field\":\"right\"},\"top\":{\"field\":\"top\"}},\"id\":\"1124\",\"type\":\"Quad\"},{\"attributes\":{\"formatter\":{\"id\":\"1139\"},\"ticker\":{\"id\":\"1106\"}},\"id\":\"1105\",\"type\":\"LinearAxis\"},{\"attributes\":{},\"id\":\"1093\",\"type\":\"DataRange1d\"},{\"attributes\":{\"axis\":{\"id\":\"1105\"},\"dimension\":1,\"ticker\":null},\"id\":\"1108\",\"type\":\"Grid\"},{\"attributes\":{\"data\":{\"left\":{\"__ndarray__\":\"v/UKkZadKsAoCPIfCXklwJIa2a57VCDA91mAe9xfFsCU/Zwygy0IwOA5ynFr2ty/IG8qVuj2AEC+EkcNj8QSQOrteO+pDR1Ai2TVaGKrI0A=\",\"dtype\":\"float64\",\"order\":\"little\",\"shape\":[10]},\"right\":{\"__ndarray__\":\"KAjyHwl5JcCSGtmue1QgwPdZgHvcXxbAlP2cMoMtCMDgOcpxa9rcvyBvKlbo9gBAvhJHDY/EEkDq7XjvqQ0dQItk1WhiqyNAIVLu2e/PKEA=\",\"dtype\":\"float64\",\"order\":\"little\",\"shape\":[10]},\"top\":[1,1,1,20,389,1525,30,1,0,1]},\"selected\":{\"id\":\"1145\"},\"selection_policy\":{\"id\":\"1144\"}},\"id\":\"1123\",\"type\":\"ColumnDataSource\"},{\"attributes\":{\"active_drag\":\"auto\",\"active_inspect\":\"auto\",\"active_multi\":null,\"active_scroll\":\"auto\",\"active_tap\":\"auto\",\"tools\":[{\"id\":\"1109\"},{\"id\":\"1110\"},{\"id\":\"1111\"},{\"id\":\"1112\"},{\"id\":\"1113\"},{\"id\":\"1114\"}]},\"id\":\"1116\",\"type\":\"Toolbar\"},{\"attributes\":{},\"id\":\"1110\",\"type\":\"WheelZoomTool\"},{\"attributes\":{\"source\":{\"id\":\"1123\"}},\"id\":\"1127\",\"type\":\"CDSView\"},{\"attributes\":{\"overlay\":{\"id\":\"1115\"}},\"id\":\"1111\",\"type\":\"BoxZoomTool\"},{\"attributes\":{\"axis\":{\"id\":\"1101\"},\"ticker\":null},\"id\":\"1104\",\"type\":\"Grid\"},{\"attributes\":{},\"id\":\"1113\",\"type\":\"ResetTool\"},{\"attributes\":{\"bottom\":{\"value\":0},\"fill_alpha\":{\"value\":0.1},\"fill_color\":{\"value\":\"#1f77b4\"},\"left\":{\"field\":\"left\"},\"line_alpha\":{\"value\":0.1},\"line_color\":{\"value\":\"#1f77b4\"},\"right\":{\"field\":\"right\"},\"top\":{\"field\":\"top\"}},\"id\":\"1125\",\"type\":\"Quad\"},{\"attributes\":{},\"id\":\"1112\",\"type\":\"SaveTool\"},{\"attributes\":{},\"id\":\"1102\",\"type\":\"BasicTicker\"},{\"attributes\":{},\"id\":\"1109\",\"type\":\"PanTool\"},{\"attributes\":{\"data_source\":{\"id\":\"1123\"},\"glyph\":{\"id\":\"1124\"},\"hover_glyph\":null,\"muted_glyph\":null,\"nonselection_glyph\":{\"id\":\"1125\"},\"selection_glyph\":null,\"view\":{\"id\":\"1127\"}},\"id\":\"1126\",\"type\":\"GlyphRenderer\"}],\"root_ids\":[\"1092\"]},\"title\":\"Bokeh Application\",\"version\":\"2.2.3\"}};\n",
       "  var render_items = [{\"docid\":\"a0b179c4-e530-4468-94f7-403d6cf7179e\",\"root_ids\":[\"1092\"],\"roots\":{\"1092\":\"96089a03-80a5-4f05-b1ef-24013c2846b2\"}}];\n",
       "  root.Bokeh.embed.embed_items_notebook(docs_json, render_items);\n",
       "\n",
       "  }\n",
       "  if (root.Bokeh !== undefined) {\n",
       "    embed_document(root);\n",
       "  } else {\n",
       "    var attempts = 0;\n",
       "    var timer = setInterval(function(root) {\n",
       "      if (root.Bokeh !== undefined) {\n",
       "        clearInterval(timer);\n",
       "        embed_document(root);\n",
       "      } else {\n",
       "        attempts++;\n",
       "        if (attempts > 100) {\n",
       "          clearInterval(timer);\n",
       "          console.log(\"Bokeh: ERROR: Unable to run BokehJS code because BokehJS library is missing\");\n",
       "        }\n",
       "      }\n",
       "    }, 10, root)\n",
       "  }\n",
       "})(window);"
      ],
      "application/vnd.bokehjs_exec.v0+json": ""
     },
     "metadata": {
      "application/vnd.bokehjs_exec.v0+json": {
       "id": "1092"
      }
     },
     "output_type": "display_data"
    }
   ],
   "source": [
    "# create a histogram with 10 bins\n",
    "hist, edges = np.histogram(st_resids, bins=10)\n",
    "fig = figure(height=400, width=400)\n",
    "fig.quad(top=hist, bottom=0, left=edges[:-1], right=edges[1:])\n",
    "show(fig)"
   ]
  },
  {
   "cell_type": "markdown",
   "metadata": {},
   "source": [
    "The scatterplot and the histogram suggests that the residuals are equally distributed around 0 and are normally distributed. The results of the Jarque-Bera test on the residuals (the third table of the summary) also indicate that the errors are distributed normally: the p-value equals 0.00, therefore we cannot reject the null hypothesis of normal distribution.\n",
    "\n",
    "Therefore, the provided linear regression model holds and is valid to make predictions on the amount of loan that will be applied by the applicant based on the applicants income, monthly income and the purchase price."
   ]
  }
 ],
 "metadata": {
  "kernelspec": {
   "display_name": "Python 3",
   "language": "python",
   "name": "python3"
  },
  "language_info": {
   "codemirror_mode": {
    "name": "ipython",
    "version": 3
   },
   "file_extension": ".py",
   "mimetype": "text/x-python",
   "name": "python",
   "nbconvert_exporter": "python",
   "pygments_lexer": "ipython3",
   "version": "3.8.5"
  }
 },
 "nbformat": 4,
 "nbformat_minor": 4
}
